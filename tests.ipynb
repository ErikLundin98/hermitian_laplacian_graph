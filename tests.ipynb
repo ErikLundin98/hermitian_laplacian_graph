{
 "cells": [
  {
   "cell_type": "code",
   "execution_count": 27,
   "metadata": {},
   "outputs": [],
   "source": [
    "import networkx as nx\n",
    "import numpy as np\n",
    "\n",
    "def get_adj(G:nx.Graph) -> np.matrix:\n",
    "    return nx.to_numpy_array(G)\n",
    "\n",
    "def gamma(A:np.matrix, i, j, q) -> np.float32:\n",
    "    \"\"\"\n",
    "    Input:\n",
    "    A: weighted or unweighted adjacency matrix of a directed graph\n",
    "    i: row\n",
    "    j: column\n",
    "    q: parameter\n",
    "    Returns:\n",
    "\n",
    "    \"\"\"\n",
    "    return np.exp(1j * np.pi * q * (A[i, j] - A[j, i]))\n",
    "\n",
    "def degree_matrix(A:np.matrix):\n",
    "    return np.diag(np.sum(A, axis=1))\n",
    "\n",
    "def hermitian_laplacian(G:nx.DiGraph, q) -> np.ndarray:\n",
    "    assert isinstance(G, nx.DiGraph), \"method is designed for directed graphs\"\n",
    "    A = get_adj(G)\n",
    "    A_s = (A + A.T)/2\n",
    "    D = degree_matrix(A_s)\n",
    "    Gamma = np.zeros(A.shape, dtype=np.complex64)\n",
    "    for i, j in zip(*A.nonzero()):\n",
    "        Gamma[i, j] = gamma(A, i, j, q)\n",
    "\n",
    "    Gamma[Gamma == 0] = 1\n",
    "\n",
    "    L_q = D - np.multiply(Gamma,A_s)\n",
    "    \n",
    "    # if degree_normalize:\n",
    "    #     inv_D = \n",
    "    #     L_q = \n",
    "    return L_q"
   ]
  },
  {
   "cell_type": "code",
   "execution_count": 28,
   "metadata": {},
   "outputs": [
    {
     "data": {
      "text/plain": [
       "array([[16.+0.j, -1.+0.j, -1.+0.j, ..., -1.+0.j,  0.+0.j,  0.+0.j],\n",
       "       [-1.+0.j,  9.+0.j, -1.+0.j, ...,  0.+0.j,  0.+0.j,  0.+0.j],\n",
       "       [-1.+0.j, -1.+0.j, 10.+0.j, ...,  0.+0.j, -1.+0.j,  0.+0.j],\n",
       "       ...,\n",
       "       [-1.+0.j,  0.+0.j,  0.+0.j, ...,  6.+0.j, -1.+0.j, -1.+0.j],\n",
       "       [ 0.+0.j,  0.+0.j, -1.+0.j, ..., -1.+0.j, 12.+0.j, -1.+0.j],\n",
       "       [ 0.+0.j,  0.+0.j,  0.+0.j, ..., -1.+0.j, -1.+0.j, 17.+0.j]])"
      ]
     },
     "execution_count": 28,
     "metadata": {},
     "output_type": "execute_result"
    }
   ],
   "source": [
    "G = nx.karate_club_graph().to_directed()\n",
    "N = len(G.nodes)\n",
    "q = 0.2\n",
    "L_q = hermitian_laplacian(G, q)\n",
    "L_q"
   ]
  },
  {
   "cell_type": "code",
   "execution_count": 29,
   "metadata": {},
   "outputs": [
    {
     "data": {
      "text/plain": [
       "((34,), (34, 34))"
      ]
     },
     "execution_count": 29,
     "metadata": {},
     "output_type": "execute_result"
    }
   ],
   "source": [
    "eigenvalues, U = np.linalg.eig(L_q)\n",
    "U = np.matrix(U)\n",
    "eigenvalues = np.real(eigenvalues) # by definition, these must be real\n",
    "eigenvalues.shape, U.shape"
   ]
  },
  {
   "cell_type": "code",
   "execution_count": 30,
   "metadata": {},
   "outputs": [
    {
     "data": {
      "text/plain": [
       "(34, 34)"
      ]
     },
     "execution_count": 30,
     "metadata": {},
     "output_type": "execute_result"
    }
   ],
   "source": [
    "def low_pass_filter_kernel(eigs, c=1):\n",
    "    return 1/(1+c*eigs)\n",
    "\n",
    "s = 1 # scale parameter\n",
    "\n",
    "G_hat_s = np.diag(low_pass_filter_kernel(eigenvalues*s))\n",
    "G_hat_s.shape"
   ]
  },
  {
   "cell_type": "code",
   "execution_count": 31,
   "metadata": {},
   "outputs": [],
   "source": [
    "U_star = U.H\n",
    "delta = np.eye(N)"
   ]
  },
  {
   "cell_type": "code",
   "execution_count": 32,
   "metadata": {},
   "outputs": [],
   "source": [
    "psi = U @ G_hat_s @ U_star @ delta"
   ]
  },
  {
   "cell_type": "code",
   "execution_count": 33,
   "metadata": {},
   "outputs": [
    {
     "data": {
      "text/plain": [
       "matrix([[0.09760604+0.j, 0.04053624+0.j, 0.03252644+0.j, ...,\n",
       "         0.02486675+0.j, 0.01554225+0.j, 0.01690973+0.j],\n",
       "        [0.04053624+0.j, 0.14560895+0.j, 0.040455  +0.j, ...,\n",
       "         0.01708206+0.j, 0.01814567+0.j, 0.02012047+0.j],\n",
       "        [0.03252644+0.j, 0.040455  +0.j, 0.12922497+0.j, ...,\n",
       "         0.02429423+0.j, 0.02936881+0.j, 0.02653306+0.j],\n",
       "        ...,\n",
       "        [0.02486675+0.j, 0.01708206+0.j, 0.02429423+0.j, ...,\n",
       "         0.18596729+0.j, 0.03569316+0.j, 0.03404643+0.j],\n",
       "        [0.01554225+0.j, 0.01814567+0.j, 0.02936881+0.j, ...,\n",
       "         0.03569316+0.j, 0.11916963+0.j, 0.04128168+0.j],\n",
       "        [0.01690973+0.j, 0.02012047+0.j, 0.02653306+0.j, ...,\n",
       "         0.03404643+0.j, 0.04128168+0.j, 0.09337072+0.j]])"
      ]
     },
     "execution_count": 33,
     "metadata": {},
     "output_type": "execute_result"
    }
   ],
   "source": [
    "psi"
   ]
  },
  {
   "cell_type": "code",
   "execution_count": 35,
   "metadata": {},
   "outputs": [
    {
     "data": {
      "text/plain": [
       "True"
      ]
     },
     "execution_count": 35,
     "metadata": {},
     "output_type": "execute_result"
    }
   ],
   "source": [
    "np.all(np.isreal(psi))"
   ]
  },
  {
   "cell_type": "code",
   "execution_count": 36,
   "metadata": {},
   "outputs": [],
   "source": [
    "psi = np.real(psi)"
   ]
  },
  {
   "cell_type": "code",
   "execution_count": 38,
   "metadata": {},
   "outputs": [
    {
     "data": {
      "text/plain": [
       "(34, 34)"
      ]
     },
     "execution_count": 38,
     "metadata": {},
     "output_type": "execute_result"
    }
   ],
   "source": [
    "psi.shape # we now have the wavelets, lets compute features according to graphwave"
   ]
  },
  {
   "cell_type": "code",
   "execution_count": null,
   "metadata": {},
   "outputs": [],
   "source": [
    "def phi(psi, i, s, t):\n",
    "    \"\"\"S is needed as well\"\"\"\n",
    "    N = psi.shape[0]\n",
    "    return 1/N * np.sum(\n",
    "        np.exp(1j * t)\n",
    "    )"
   ]
  }
 ],
 "metadata": {
  "interpreter": {
   "hash": "8b18e0a90213dc9abd75cee7734d0cc0d8fa43e9c4b298208b8688dad76e73dc"
  },
  "kernelspec": {
   "display_name": "Python 3.9.7 ('venv': venv)",
   "language": "python",
   "name": "python3"
  },
  "language_info": {
   "codemirror_mode": {
    "name": "ipython",
    "version": 3
   },
   "file_extension": ".py",
   "mimetype": "text/x-python",
   "name": "python",
   "nbconvert_exporter": "python",
   "pygments_lexer": "ipython3",
   "version": "3.9.7"
  },
  "orig_nbformat": 4
 },
 "nbformat": 4,
 "nbformat_minor": 2
}
